{
 "cells": [
  {
   "cell_type": "code",
   "execution_count": 17,
   "metadata": {},
   "outputs": [],
   "source": [
    "#### Notebook Imports\n",
    "import numpy as np"
   ]
  },
  {
   "cell_type": "code",
   "execution_count": 18,
   "metadata": {},
   "outputs": [],
   "source": [
    "from random import randint as rand"
   ]
  },
  {
   "cell_type": "markdown",
   "metadata": {},
   "source": [
    "### CS229 Week 1 Algorithms\n",
    "---\n",
    "1. Linear Model (for regression)\n",
    "2. Least Mean Squares cost function\n",
    "3. Batch Gradient Descent\n",
    "4. Stochastic Gradient Descent\n",
    "5. Normal Equations"
   ]
  },
  {
   "cell_type": "markdown",
   "metadata": {},
   "source": [
    "### Linear Model (Hypothesis Function)\n",
    "---\n",
    "\\begin{equation}\n",
    "h_\\theta(x) = \\sum_{i=0}^{n} \\theta_ix_i\n",
    "\\end{equation}\n",
    "\n",
    "Here: $\\theta_0$ will be bias/intercept of the linear equation and $x_0$ will be a 1 vector"
   ]
  },
  {
   "cell_type": "code",
   "execution_count": 38,
   "metadata": {},
   "outputs": [],
   "source": [
    "h = lambda theta, x: 1 + np.sum(theta*x)"
   ]
  },
  {
   "cell_type": "markdown",
   "metadata": {},
   "source": [
    "### Least Mean Squares\n",
    "---\n",
    "\\begin{equation}\n",
    "J(\\theta) = \\frac{1}{2} \\sum_{i=1}^{m} (h_\\theta(x^{(i)}) - y^{(i)})^2 \\\\\n",
    "\\frac{\\partial J}{\\partial \\theta_j} = \\sum_{i=1}^{m} (h_\\theta(x^{(i)}) - y^{(i)})x^{(i)}_j\n",
    "\\end{equation}"
   ]
  },
  {
   "cell_type": "code",
   "execution_count": 36,
   "metadata": {},
   "outputs": [],
   "source": [
    "J = lambda theta, x, y: (1/2)*np.sum(h(theta, x) - y)**2\n",
    "\n",
    "# dJ_dtheta = lambda theta, x, y, xj: np.sum(h(theta, x) - y)*xj\n",
    "def dJ_dtheta(theta, x, y, xj):\n",
    "    s = h(theta, np.ones(x.shape)) - y[0]\n",
    "    for i in range(len(x)):\n",
    "        s += (h(theta[i], x[i]) - y[i])\n",
    "    return s"
   ]
  },
  {
   "cell_type": "markdown",
   "metadata": {},
   "source": [
    "### Batch Gradient Descent\n",
    "---\n",
    "\n",
    "\\begin{equation}\n",
    "\\theta_{j+1} := \\theta_j - \\alpha \\frac{\\partial J}{\\partial \\theta_j} \\\\\n",
    "\\theta_{j+1} := \\theta_j - \\alpha (\\sum_{i=1}^{m} (h_\\theta(x^{(i)}) - y^{(i)})x^{(i)}_j)\n",
    "\\end{equation}\n",
    "repeat until convergence {\n",
    "\\begin{equation}\n",
    "\\theta_{j+1} := \\theta_j - \\alpha (\\sum_{i=1}^{m} (h_\\theta(x^{(i)}) - y^{(i)})x^{(i)}_j)\n",
    "\\end{equation}\n",
    "}"
   ]
  },
  {
   "cell_type": "code",
   "execution_count": 40,
   "metadata": {},
   "outputs": [],
   "source": [
    "nextTheta = lambda theta, X, Y, alpha: theta - alpha*dJ_dtheta(theta, X, Y, 1)"
   ]
  },
  {
   "cell_type": "markdown",
   "metadata": {},
   "source": [
    "### Stochastic Gradient Descent\n",
    "---\n",
    "\n",
    "\\begin{equation}\n",
    "\\theta_{j+1} := \\theta_j - \\alpha \\frac{\\partial J}{\\partial \\theta_j} \\\\\n",
    "\\theta_{j+1} := \\theta_j - \\alpha (h_\\theta(x^{(i)}) - y^{(i)})x^{(i)}_j\n",
    "\\end{equation}\n",
    "repeat until converge {\n",
    "\\begin{equation}\n",
    "\\theta_{j+1} := \\theta_j - \\alpha (h_\\theta(x^{(i)}) - y^{(i)})x^{(i)}_j\n",
    "\\end{equation}\n",
    "}"
   ]
  },
  {
   "cell_type": "code",
   "execution_count": 8,
   "metadata": {},
   "outputs": [],
   "source": [
    "stochastic_dJ_dtheta = lambda theta, x, y: y[rand(0, len(y))] - h(theta, x[rand(0, len(x))]) * x[rand(0, len(x))]"
   ]
  },
  {
   "cell_type": "code",
   "execution_count": 64,
   "metadata": {},
   "outputs": [],
   "source": [
    "stochastic_nextTheta = lambda theta, X, Y, alpha: theta + alpha*stochastic_dJ_dtheta(theta, X, Y)"
   ]
  },
  {
   "cell_type": "markdown",
   "metadata": {},
   "source": [
    "### Normal Equations\n",
    "---\n",
    "\n",
    "\\begin{equation}\n",
    "\\theta = (X^TX)^{-1}X^Ty\n",
    "\\end{equation}"
   ]
  },
  {
   "cell_type": "code",
   "execution_count": 9,
   "metadata": {},
   "outputs": [],
   "source": [
    "ftheta = lambda X, Y: np.linalg.pinv(np.transpose(X)*X)*np.transpose(X)*Y"
   ]
  },
  {
   "cell_type": "code",
   "execution_count": 5,
   "metadata": {},
   "outputs": [],
   "source": [
    "from sklearn import datasets\n",
    "import pandas as pd"
   ]
  },
  {
   "cell_type": "code",
   "execution_count": 6,
   "metadata": {},
   "outputs": [],
   "source": [
    "df = pd.read_csv(\"ex1data1.txt\")"
   ]
  },
  {
   "cell_type": "code",
   "execution_count": 7,
   "metadata": {},
   "outputs": [],
   "source": [
    "df.columns = ['X', 'Y']"
   ]
  },
  {
   "cell_type": "code",
   "execution_count": 8,
   "metadata": {},
   "outputs": [],
   "source": [
    "X = df['X']\n",
    "Y = df['Y']"
   ]
  },
  {
   "cell_type": "code",
   "execution_count": 11,
   "metadata": {},
   "outputs": [
    {
     "data": {
      "text/plain": [
       "0      9.13020\n",
       "1     13.66200\n",
       "2     11.85400\n",
       "3      6.82330\n",
       "4     11.88600\n",
       "        ...   \n",
       "91     7.20290\n",
       "92     1.98690\n",
       "93     0.14454\n",
       "94     9.05510\n",
       "95     0.61705\n",
       "Name: Y, Length: 96, dtype: float64"
      ]
     },
     "execution_count": 11,
     "metadata": {},
     "output_type": "execute_result"
    }
   ],
   "source": [
    "Y"
   ]
  },
  {
   "cell_type": "code",
   "execution_count": 12,
   "metadata": {},
   "outputs": [],
   "source": [
    "del df"
   ]
  },
  {
   "cell_type": "code",
   "execution_count": 15,
   "metadata": {},
   "outputs": [],
   "source": [
    "X, Y = X.to_numpy(), Y.to_numpy()"
   ]
  },
  {
   "cell_type": "code",
   "execution_count": 16,
   "metadata": {},
   "outputs": [
    {
     "data": {
      "text/plain": [
       "array([ 5.5277,  8.5186,  7.0032,  5.8598,  8.3829,  7.4764,  8.5781,\n",
       "        6.4862,  5.0546,  5.7107, 14.164 ,  5.734 ,  8.4084,  5.6407,\n",
       "        5.3794,  6.3654,  5.1301,  6.4296,  7.0708,  6.1891, 20.27  ,\n",
       "        5.4901,  6.3261,  5.5649, 18.945 , 12.828 , 10.957 , 13.176 ,\n",
       "       22.203 ,  5.2524,  6.5894,  9.2482,  5.8918,  8.2111,  7.9334,\n",
       "        8.0959,  5.6063, 12.836 ,  6.3534,  5.4069,  6.8825, 11.708 ,\n",
       "        5.7737,  7.8247,  7.0931,  5.0702,  5.8014, 11.7   ,  5.5416,\n",
       "        7.5402,  5.3077,  7.4239,  7.6031,  6.3328,  6.3589,  6.2742,\n",
       "        5.6397,  9.3102,  9.4536,  8.8254,  5.1793, 21.279 , 14.908 ,\n",
       "       18.959 ,  7.2182,  8.2951, 10.236 ,  5.4994, 20.341 , 10.136 ,\n",
       "        7.3345,  6.0062,  7.2259,  5.0269,  6.5479,  7.5386,  5.0365,\n",
       "       10.274 ,  5.1077,  5.7292,  5.1884,  6.3557,  9.7687,  6.5159,\n",
       "        8.5172,  9.1802,  6.002 ,  5.5204,  5.0594,  5.7077,  7.6366,\n",
       "        5.8707,  5.3054,  8.2934, 13.394 ,  5.4369])"
      ]
     },
     "execution_count": 16,
     "metadata": {},
     "output_type": "execute_result"
    }
   ],
   "source": [
    "X"
   ]
  },
  {
   "cell_type": "code",
   "execution_count": 43,
   "metadata": {},
   "outputs": [],
   "source": [
    "def LinearRegression(x, y, learningRate = 0.01, epochs = 1000):\n",
    "    theta = np.zeros(x.shape)\n",
    "    T = None\n",
    "    for i in range(epochs):\n",
    "        theta = nextTheta(theta, x, y, learningRate)\n",
    "    return theta"
   ]
  }
 ],
 "metadata": {
  "kernelspec": {
   "display_name": "Python 3",
   "language": "python",
   "name": "python3"
  },
  "language_info": {
   "codemirror_mode": {
    "name": "ipython",
    "version": 3
   },
   "file_extension": ".py",
   "mimetype": "text/x-python",
   "name": "python",
   "nbconvert_exporter": "python",
   "pygments_lexer": "ipython3",
   "version": "3.7.4"
  }
 },
 "nbformat": 4,
 "nbformat_minor": 2
}
