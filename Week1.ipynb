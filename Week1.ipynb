{
 "cells": [
  {
   "cell_type": "code",
   "execution_count": 6,
   "metadata": {},
   "outputs": [],
   "source": [
    "#### Notebook Imports\n",
    "import numpy as np"
   ]
  },
  {
   "cell_type": "markdown",
   "metadata": {},
   "source": [
    "### CS229 Week 1 Algorithms\n",
    "---\n",
    "1. Linear Model (for regression)\n",
    "2. Least Mean Squares cost function\n",
    "3. Batch Gradient Descent\n",
    "4. Stochastic Gradient Descent\n",
    "5. Normal Equations"
   ]
  },
  {
   "cell_type": "markdown",
   "metadata": {},
   "source": [
    "### Linear Model (Hypothesis Function)\n",
    "---\n",
    "\\begin{equation}\n",
    "h_\\theta(x) = \\theta_0 + \\sum_{i=1}^{n} \\theta_ix_i\n",
    "\\end{equation}"
   ]
  },
  {
   "cell_type": "code",
   "execution_count": 24,
   "metadata": {},
   "outputs": [],
   "source": [
    "# h = lambda theta, x: theta[0] + np.sum(theta[1:]*x)\n",
    "def h(theta, x):\n",
    "    sm = 0\n",
    "    for i in range(1, len(x)):\n",
    "        sm += theta[i]*x[i]\n",
    "    return theta[0] + sm"
   ]
  },
  {
   "cell_type": "markdown",
   "metadata": {},
   "source": [
    "### Least Mean Squares\n",
    "---\n",
    "\\begin{equation}\n",
    "J(\\theta) = \\frac{1}{2} \\sum_{i=1}^{m} (h_\\theta(x^{(i)}) - y^{(i)})^2 \\\\\n",
    "\\frac{\\partial J}{\\partial \\theta_j} = \\sum_{i=1}^{m} (h_\\theta(x^{(i)}) - y^{(i)})x_j\n",
    "\\end{equation}"
   ]
  },
  {
   "cell_type": "code",
   "execution_count": 28,
   "metadata": {},
   "outputs": [],
   "source": [
    "J = lambda theta, x, y: (1/2)*np.sum(h(theta, x) - y)**2\n",
    "\n",
    "dj = lambda theta, x, y, j: np.sum(h(theta, x) - y)*x[j]"
   ]
  },
  {
   "cell_type": "markdown",
   "metadata": {},
   "source": [
    "### Batch Gradient Descent\n",
    "---\n",
    "\n",
    "\\begin{equation}\n",
    "\\theta_{j+1} := \\theta_j - \\alpha \\frac{\\partial J}{\\partial \\theta_j} \\\\\n",
    "\\theta_{j+1} := \\theta_j - \\alpha (\\sum_{i=1}^{m} (h_\\theta(x^{(i)}) - y^{(i)})x_j)\n",
    "\\end{equation}\n",
    "repeat until converge {\n",
    "\\begin{equation}\n",
    "\\theta_{j+1} := \\theta_j - \\alpha (\\sum_{i=1}^{m} (h_\\theta(x^{(i)}) - y^{(i)})x_j)\n",
    "\\end{equation}\n",
    "}"
   ]
  },
  {
   "cell_type": "code",
   "execution_count": null,
   "metadata": {},
   "outputs": [],
   "source": []
  },
  {
   "cell_type": "markdown",
   "metadata": {},
   "source": [
    "### Stochastic Gradient Descent\n",
    "---\n",
    "\n",
    "\\begin{equation}\n",
    "\\theta_{j+1} := \\theta_j - \\alpha \\frac{\\partial J}{\\partial \\theta_j} \\\\\n",
    "\\theta_{j+1} := \\theta_j - \\alpha (h_\\theta(x^{(i)}) - y^{(i)})x_j\n",
    "\\end{equation}\n",
    "repeat until converge {\n",
    "\\begin{equation}\n",
    "\\theta_{j+1} := \\theta_j - \\alpha (h_\\theta(x^{(i)}) - y^{(i)})x_j\n",
    "\\end{equation}\n",
    "}"
   ]
  },
  {
   "cell_type": "code",
   "execution_count": null,
   "metadata": {},
   "outputs": [],
   "source": []
  },
  {
   "cell_type": "markdown",
   "metadata": {},
   "source": [
    "### Normal Equations\n",
    "---\n",
    "\n",
    "\\begin{equation}\n",
    "\\theta = (X^TX)^{-1}X^Ty\n",
    "\\end{equation}"
   ]
  },
  {
   "cell_type": "code",
   "execution_count": 30,
   "metadata": {},
   "outputs": [],
   "source": [
    "normal_eq = lambda X, y: np.linalg.pinv(np.transpose(X)*X)*np.transpose(X)*y"
   ]
  }
 ],
 "metadata": {
  "kernelspec": {
   "display_name": "Python 3",
   "language": "python",
   "name": "python3"
  },
  "language_info": {
   "codemirror_mode": {
    "name": "ipython",
    "version": 3
   },
   "file_extension": ".py",
   "mimetype": "text/x-python",
   "name": "python",
   "nbconvert_exporter": "python",
   "pygments_lexer": "ipython3",
   "version": "3.7.4"
  }
 },
 "nbformat": 4,
 "nbformat_minor": 2
}
