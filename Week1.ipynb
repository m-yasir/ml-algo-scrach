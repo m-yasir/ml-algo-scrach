{
 "cells": [
  {
   "cell_type": "code",
   "execution_count": 45,
   "metadata": {},
   "outputs": [],
   "source": [
    "#### Notebook Imports\n",
    "import numpy as np"
   ]
  },
  {
   "cell_type": "code",
   "execution_count": 74,
   "metadata": {},
   "outputs": [],
   "source": [
    "from random import randint as rand"
   ]
  },
  {
   "cell_type": "markdown",
   "metadata": {},
   "source": [
    "### CS229 Week 1 Algorithms\n",
    "---\n",
    "1. Linear Model (for regression)\n",
    "2. Least Mean Squares cost function\n",
    "3. Batch Gradient Descent\n",
    "4. Stochastic Gradient Descent\n",
    "5. Normal Equations"
   ]
  },
  {
   "cell_type": "markdown",
   "metadata": {},
   "source": [
    "### Linear Model (Hypothesis Function)\n",
    "---\n",
    "\\begin{equation}\n",
    "h_\\theta(x) = \\sum_{i=0}^{n} \\theta_ix_i\n",
    "\\end{equation}\n",
    "\n",
    "Here: $\\theta_0$ will be bias/intercept of the linear equation and $x_0$ will be a 1 vector"
   ]
  },
  {
   "cell_type": "code",
   "execution_count": 46,
   "metadata": {},
   "outputs": [],
   "source": [
    "h = lambda theta, x: np.sum(theta*x)"
   ]
  },
  {
   "cell_type": "markdown",
   "metadata": {},
   "source": [
    "### Least Mean Squares\n",
    "---\n",
    "\\begin{equation}\n",
    "J(\\theta) = \\frac{1}{2} \\sum_{i=1}^{m} (y^{(i)} - h_\\theta(x^{(i)}))^2 \\\\\n",
    "\\frac{\\partial J}{\\partial \\theta_j} = \\sum_{i=1}^{m} (y^{(i)} - h_\\theta(x^{(i)}))x^{(i)}_j\n",
    "\\end{equation}"
   ]
  },
  {
   "cell_type": "code",
   "execution_count": 47,
   "metadata": {
    "scrolled": true
   },
   "outputs": [
    {
     "data": {
      "text/plain": [
       "array([[ 1, 23, 34],\n",
       "       [ 1, 12, 56],\n",
       "       [ 1, 34, 63],\n",
       "       [ 1, 55, 22]])"
      ]
     },
     "execution_count": 47,
     "metadata": {},
     "output_type": "execute_result"
    }
   ],
   "source": [
    "np.transpose(np.array([\n",
    "    [1,1,1,1],\n",
    "    [23,12,34,55],\n",
    "    [34,56,63,22]\n",
    "]))"
   ]
  },
  {
   "cell_type": "code",
   "execution_count": 52,
   "metadata": {},
   "outputs": [],
   "source": [
    "J = lambda theta, x, y: (1/2)*np.sum(h(theta, x) - y)**2\n",
    "\n",
    "dJ_dtheta = lambda theta, x, y: np.sum( y - h(theta, x) * x)"
   ]
  },
  {
   "cell_type": "markdown",
   "metadata": {},
   "source": [
    "### Batch Gradient Descent\n",
    "---\n",
    "\n",
    "\\begin{equation}\n",
    "\\theta_{j+1} := \\theta_j + \\alpha \\frac{\\partial J}{\\partial \\theta_j} \\\\\n",
    "\\theta_{j+1} := \\theta_j + \\alpha (\\sum_{i=1}^{m} (y^{(i)} - h_\\theta(x^{(i)}))x^{(i)}_j)\n",
    "\\end{equation}\n",
    "repeat until convergence {\n",
    "\\begin{equation}\n",
    "\\theta_{j+1} := \\theta_j + \\alpha (\\sum_{i=1}^{m} (y^{(i)} - h_\\theta(x^{(i)}))x^{(i)}_j)\n",
    "\\end{equation}\n",
    "}"
   ]
  },
  {
   "cell_type": "code",
   "execution_count": 54,
   "metadata": {},
   "outputs": [],
   "source": [
    "nextTheta = lambda theta, X, Y, alpha: theta + alpha*dJ_dtheta(theta, X, Y)"
   ]
  },
  {
   "cell_type": "markdown",
   "metadata": {},
   "source": [
    "### Stochastic Gradient Descent\n",
    "---\n",
    "\n",
    "\\begin{equation}\n",
    "\\theta_{j+1} := \\theta_j + \\alpha \\frac{\\partial J}{\\partial \\theta_j} \\\\\n",
    "\\theta_{j+1} := \\theta_j + \\alpha (y^{(i)} - h_\\theta(x^{(i)}))x_j\n",
    "\\end{equation}\n",
    "repeat until converge {\n",
    "\\begin{equation}\n",
    "\\theta_{j+1} := \\theta_j + \\alpha (y^{(i)} - h_\\theta(x^{(i)}))x_j\n",
    "\\end{equation}\n",
    "}"
   ]
  },
  {
   "cell_type": "code",
   "execution_count": 76,
   "metadata": {},
   "outputs": [],
   "source": [
    "stochastic_dJ_dtheta = lambda theta, x, y: y[rand(0, len(y))] - h(theta, x[rand(0, len(x))]) * x[rand(0, len(x))]"
   ]
  },
  {
   "cell_type": "code",
   "execution_count": 77,
   "metadata": {},
   "outputs": [],
   "source": [
    "stochastic_nextTheta = lambda theta, X, Y, alpha: theta + alpha*stochastic_dJ_dtheta(theta, X, Y)"
   ]
  },
  {
   "cell_type": "markdown",
   "metadata": {},
   "source": [
    "### Normal Equations\n",
    "---\n",
    "\n",
    "\\begin{equation}\n",
    "\\theta = (X^TX)^{-1}X^Ty\n",
    "\\end{equation}"
   ]
  },
  {
   "cell_type": "code",
   "execution_count": 56,
   "metadata": {},
   "outputs": [],
   "source": [
    "ftheta = lambda X, y: np.linalg.pinv(np.transpose(X)*X)*np.transpose(X)*y"
   ]
  }
 ],
 "metadata": {
  "kernelspec": {
   "display_name": "Python 3",
   "language": "python",
   "name": "python3"
  },
  "language_info": {
   "codemirror_mode": {
    "name": "ipython",
    "version": 3
   },
   "file_extension": ".py",
   "mimetype": "text/x-python",
   "name": "python",
   "nbconvert_exporter": "python",
   "pygments_lexer": "ipython3",
   "version": "3.7.4"
  }
 },
 "nbformat": 4,
 "nbformat_minor": 2
}
